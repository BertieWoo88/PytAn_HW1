{
 "cells": [
  {
   "cell_type": "markdown",
   "metadata": {},
   "source": [
    "# Практическое задание 1. «Оформление ноутбука и закрепление функций и генераторов»\n",
    "## Задача 1\n",
    "На складе лежат разные фрукты в разном количестве. Написать функцию, которая на вход принимает любое количество названий фруктов и их количество, а возвращает общее количество фруктов на складе\n",
    "Примеры/Тесты:\n",
    "\n",
    "        <finction_name>(apple=2, banana=12, pear=9, peach=5) -> 28\n"
   ]
  },
  {
   "cell_type": "code",
   "execution_count": 8,
   "metadata": {},
   "outputs": [
    {
     "name": "stdout",
     "output_type": "stream",
     "text": [
      "28\n"
     ]
    }
   ],
   "source": [
    "def countFruits(**kwargs):\n",
    "    countFruits = 0\n",
    "    for countFruit in kwargs.values():\n",
    "        countFruits +=countFruit\n",
    "    return countFruits\n",
    "\n",
    "\n",
    "# ТЕСТ 1\n",
    "\n",
    "print(countFruits(apple=2, banana=12, pear=9, peach=5))"
   ]
  },
  {
   "cell_type": "code",
   "execution_count": 9,
   "metadata": {},
   "outputs": [
    {
     "name": "stdout",
     "output_type": "stream",
     "text": [
      "32\n"
     ]
    }
   ],
   "source": [
    "#ТЕСТ 2\n",
    "print(countFruits(apple=7, banana=10, pear=6, peach=5, kiwi=4))"
   ]
  },
  {
   "cell_type": "markdown",
   "metadata": {},
   "source": [
    "## Задача 2\n",
    "Дан список с затратами на рекламу. Но в данных есть ошибки, некоторые затраты имеют отрицательную величину. Удалите такие значения из списка и посчитайте суммарные затраты. Используйте list comprehensions.\n",
    "Примеры/Тесты:\n",
    "\n",
    "        [-12, 100, 0, 125, -90, 0, 345, 655, -1, 0, 200] -> [100, 0, 125, 0, 345, 655, 0, 200]"
   ]
  },
  {
   "cell_type": "code",
   "execution_count": 12,
   "metadata": {},
   "outputs": [
    {
     "name": "stdout",
     "output_type": "stream",
     "text": [
      "[100, 0, 125, 0, 345, 655, 0, 200]\n"
     ]
    }
   ],
   "source": [
    "CostsData = [-12, 100, 0, 125, -90, 0, 345, 655, -1, 0, 200]\n",
    "\n",
    "CorrectCosts = [cost for cost in CostsData if cost>=0 ]\n",
    "\n",
    "print(CorrectCosts)\n"
   ]
  },
  {
   "cell_type": "markdown",
   "metadata": {},
   "source": [
    "### Задача 2.2\n",
    "**Усложнение.** Удалите отрицательные значения из списка, а нулевые значения замените на None\n",
    "Примеры/Тесты:\n",
    "\n",
    "    [-12, 100, 0, 125, -90, 0, 345, 655, -1, 0, 200] -> [100, None, 125, None, 345, 655, None, 200]"
   ]
  },
  {
   "cell_type": "code",
   "execution_count": 23,
   "metadata": {},
   "outputs": [
    {
     "name": "stdout",
     "output_type": "stream",
     "text": [
      "[100, None, 125, None, 345, 655, None, 200]\n"
     ]
    }
   ],
   "source": [
    "CorrectCosts2 = [cost if cost>0 else None for cost in [cost for cost in CostsData if cost>=0]]\n",
    "print(CorrectCosts2)"
   ]
  },
  {
   "cell_type": "markdown",
   "metadata": {},
   "source": [
    "## Задача 3\n",
    " Даны два списка: Дата покупки и Суммы покупок по датам\n",
    "\n",
    "- ['2021-09-14', '2021-12-15', '2021-09-08', '2021-12-05', '2021-10-09', '2021-09-30', '2021-12-22', '2021-11-29', '2021-12-24', '2021-11-26', '2021-10-27', '2021-12-18', '2021-11-09', '2021-11-23', '2021-09-27', '2021-10-02', '2021-12-27', '2021-09-20', '2021-12-13', '2021-11-01', '2021-11-09', '2021-12-06', '2021-12-08', '2021-10-09', '2021-10-31', '2021-09-30', '2021-11-09', '2021-12-13', '2021-10-26', '2021-12-09']\n",
    "- [1270, 8413, 9028, 3703, 5739, 4095, 295, 4944, 5723, 3701, 4471, 651, 7037, 4274, 6275, 4988, 6930, 2971, 6592, 2004, 2822, 519, 3406, 2732, 5015, 2008, 316, 6333, 5700, 2887]\n",
    "\n",
    "### Задание 3.1\n",
    "Найдите, какая выручка у компании в ноябре.  Используйте list comprehensions.\n",
    "        \n",
    "        Ответ: 25098"
   ]
  },
  {
   "cell_type": "code",
   "execution_count": 18,
   "metadata": {},
   "outputs": [
    {
     "name": "stdout",
     "output_type": "stream",
     "text": [
      "25098\n"
     ]
    }
   ],
   "source": [
    "DateList = ['2021-09-14', '2021-12-15', '2021-09-08', '2021-12-05', \n",
    "            '2021-10-09', '2021-09-30', '2021-12-22', '2021-11-29', \n",
    "            '2021-12-24', '2021-11-26', '2021-10-27', '2021-12-18', \n",
    "            '2021-11-09', '2021-11-23', '2021-09-27', '2021-10-02', \n",
    "            '2021-12-27', '2021-09-20', '2021-12-13', '2021-11-01', \n",
    "            '2021-11-09', '2021-12-06', '2021-12-08', '2021-10-09', \n",
    "            '2021-10-31', '2021-09-30', '2021-11-09', '2021-12-13', '2021-10-26', '2021-12-09']\n",
    "\n",
    "SumPurch = [1270, 8413, 9028, 3703, 5739, 4095, 295, 4944, 5723, 3701, 4471, 651, 7037, 4274, 6275, 4988, 6930,\n",
    "            2971, 6592, 2004, 2822, 519, 3406, 2732, 5015, 2008, 316, 6333, 5700, 2887]\n",
    "\n",
    "\n",
    "\n",
    "\n",
    "NovemberPurch = sum([purch for salesDate, purch in zip(DateList,SumPurch) if salesDate[5:7]=='11'])\n",
    "print(NovemberPurch)"
   ]
  },
  {
   "cell_type": "markdown",
   "metadata": {},
   "source": [
    "### Задача 3.2\n",
    "Найдите выручку компании в зависимости от месяца. Напишите функцию, которая на вход принимает списки с датами и с выручкой, а на выходе вернет словарь, где ключи - это месяцы, а значения - это выручка.\n",
    "Примеры/Тесты:\n",
    "\n",
    "        <finction_name>(dates, prices) -> {'09': 25647, '12': 45452, '10': 28645, '11': 25098}"
   ]
  },
  {
   "cell_type": "code",
   "execution_count": 5,
   "metadata": {},
   "outputs": [
    {
     "ename": "TypeError",
     "evalue": "'str' object cannot be interpreted as an integer",
     "output_type": "error",
     "traceback": [
      "\u001b[1;31m---------------------------------------------------------------------------\u001b[0m",
      "\u001b[1;31mTypeError\u001b[0m                                 Traceback (most recent call last)",
      "Cell \u001b[1;32mIn[5], line 2\u001b[0m\n\u001b[0;32m      1\u001b[0m \u001b[39mimport\u001b[39;00m \u001b[39mdatetime\u001b[39;00m\n\u001b[1;32m----> 2\u001b[0m convertToDate \u001b[39m=\u001b[39m [datetime\u001b[39m.\u001b[39;49mdate(dateSales)\u001b[39m.\u001b[39;49mmonth \u001b[39mfor\u001b[39;49;00m dateSales \u001b[39min\u001b[39;49;00m DateList]\n\u001b[0;32m      3\u001b[0m \u001b[39mprint\u001b[39m(convertToDate)\n",
      "Cell \u001b[1;32mIn[5], line 2\u001b[0m, in \u001b[0;36m<listcomp>\u001b[1;34m(.0)\u001b[0m\n\u001b[0;32m      1\u001b[0m \u001b[39mimport\u001b[39;00m \u001b[39mdatetime\u001b[39;00m\n\u001b[1;32m----> 2\u001b[0m convertToDate \u001b[39m=\u001b[39m [datetime\u001b[39m.\u001b[39;49mdate(dateSales)\u001b[39m.\u001b[39mmonth \u001b[39mfor\u001b[39;00m dateSales \u001b[39min\u001b[39;00m DateList]\n\u001b[0;32m      3\u001b[0m \u001b[39mprint\u001b[39m(convertToDate)\n",
      "\u001b[1;31mTypeError\u001b[0m: 'str' object cannot be interpreted as an integer"
     ]
    }
   ],
   "source": [
    "import datetime\n",
    "convertToDate = [datetime.date(dateSales).month for dateSales in DateList]\n",
    "print(convertToDate)"
   ]
  },
  {
   "cell_type": "code",
   "execution_count": 17,
   "metadata": {},
   "outputs": [
    {
     "name": "stdout",
     "output_type": "stream",
     "text": [
      "2023-07-15\n",
      "7\n"
     ]
    }
   ],
   "source": [
    "datenow ='2023.07.15'\n",
    "\n",
    "convNowDate = datetime.date((int(datenow[:4])),(int(datenow[5:7])),(int(datenow[8:])))\n",
    "print(convNowDate)\n",
    "monthdate = datetime.date((int(datenow[:4])),(int(datenow[5:7])),(int(datenow[8:]))).month\n",
    "print(monthdate)"
   ]
  },
  {
   "cell_type": "code",
   "execution_count": 24,
   "metadata": {},
   "outputs": [
    {
     "name": "stdout",
     "output_type": "stream",
     "text": [
      "{'Сентябрь': 25647, 'Октябрь': 28645, 'Ноябрь': 25098, 'Декабрь': 45452}\n"
     ]
    }
   ],
   "source": [
    "def dictRevenue(datesPurch:list, sumPurch:list)->dict:\n",
    "    listMonthRu = ['Январь', 'Февраль', 'Март', 'Апрель', 'Май', 'Июнь', 'Июль', 'Август', 'Сентябрь', 'Октябрь', 'Ноябрь', 'Декабрь']\n",
    "    Revenue = dict()\n",
    "    for i in range(12):\n",
    "        monthPurch = [amount for date, amount in zip(datesPurch, sumPurch) if\n",
    "                         int(date[5:7]) == (i + 1)]\n",
    "        if len(monthPurch)>0:\n",
    "            Revenue[listMonthRu[i]]=sum(monthPurch)\n",
    "    return Revenue\n",
    "    \n",
    "\n",
    "print(dictRevenue(DateList, SumPurch))\n"
   ]
  },
  {
   "cell_type": "code",
   "execution_count": 36,
   "metadata": {},
   "outputs": [
    {
     "name": "stdout",
     "output_type": "stream",
     "text": [
      "{9: 25647, 10: 28645, 11: 25098, 12: 45452}\n"
     ]
    }
   ],
   "source": [
    "def Reven2(datesPurch:list, sumPurch:list)->dict:\n",
    "    SetMonth = {int(salesDate[5:7]) for salesDate in datesPurch }\n",
    "    Revenue={i:sum([purch for salesDate, purch in zip(DateList,SumPurch) if int(salesDate[5:7])==i]) for i in SetMonth}\n",
    "    return Revenue\n",
    "\n",
    "print(Reven2(DateList, SumPurch))"
   ]
  }
 ],
 "metadata": {
  "kernelspec": {
   "display_name": "Python 3",
   "language": "python",
   "name": "python3"
  },
  "language_info": {
   "codemirror_mode": {
    "name": "ipython",
    "version": 3
   },
   "file_extension": ".py",
   "mimetype": "text/x-python",
   "name": "python",
   "nbconvert_exporter": "python",
   "pygments_lexer": "ipython3",
   "version": "3.11.2"
  },
  "orig_nbformat": 4
 },
 "nbformat": 4,
 "nbformat_minor": 2
}
